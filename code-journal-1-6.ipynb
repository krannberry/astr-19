{
 "cells": [
  {
   "cell_type": "code",
   "execution_count": 14,
   "id": "c80ab599-4a0a-45ba-acfe-046353065745",
   "metadata": {},
   "outputs": [],
   "source": [
    "import numpy as np"
   ]
  },
  {
   "cell_type": "markdown",
   "id": "c4e5a597-0cbe-4de8-95a6-81e41bf12092",
   "metadata": {},
   "source": [
    "this code will create a three column table "
   ]
  },
  {
   "cell_type": "code",
   "execution_count": 15,
   "id": "311e3fc7-6194-4a7a-8714-417ab33f613c",
   "metadata": {},
   "outputs": [],
   "source": [
    "def sin(x):\n",
    "    return (np.sin(x))"
   ]
  },
  {
   "cell_type": "markdown",
   "id": "79b92066-82cf-4fec-9dac-8c7b61cb2180",
   "metadata": {},
   "source": [
    "this will return sin(x)"
   ]
  },
  {
   "cell_type": "code",
   "execution_count": 16,
   "id": "9e55f532-7f48-4de2-bb87-b4698c6030ec",
   "metadata": {},
   "outputs": [],
   "source": [
    "def cos(x):\n",
    "    return (np.cos(x))"
   ]
  },
  {
   "cell_type": "markdown",
   "id": "ef779302-1570-42fe-8d60-bd6832bf0e69",
   "metadata": {},
   "source": [
    "this will return cos(x)"
   ]
  },
  {
   "cell_type": "code",
   "execution_count": 17,
   "id": "8898231e-e9fb-4439-8c18-1b8e4572b788",
   "metadata": {},
   "outputs": [],
   "source": [
    "def main():\n",
    "    x = np.linspace(0.0, 2*np.pi, num=1000)\n",
    "    sin = np.sin(x) \n",
    "    cos = np.cos(x)"
   ]
  },
  {
   "cell_type": "markdown",
   "id": "c913f99f-3646-4119-b917-b715c0493d25",
   "metadata": {},
   "source": [
    "this is the main function. This function defines x, sin, and cos"
   ]
  },
  {
   "cell_type": "code",
   "execution_count": 20,
   "id": "03bc2c53-1e12-4dc3-880e-b2116a4264f5",
   "metadata": {},
   "outputs": [
    {
     "name": "stdout",
     "output_type": "stream",
     "text": [
      "   x   | sin(x)| cos(x)\n",
      "----------------------------\n"
     ]
    },
    {
     "ename": "NameError",
     "evalue": "name 'x' is not defined",
     "output_type": "error",
     "traceback": [
      "\u001b[1;31m---------------------------------------------------------------------\u001b[0m",
      "\u001b[1;31mNameError\u001b[0m                           Traceback (most recent call last)",
      "Cell \u001b[1;32mIn[20], line 4\u001b[0m\n\u001b[0;32m      2\u001b[0m \u001b[38;5;28mprint\u001b[39m(\u001b[38;5;124m\"\u001b[39m\u001b[38;5;124m----------------------------\u001b[39m\u001b[38;5;124m\"\u001b[39m)\n\u001b[0;32m      3\u001b[0m \u001b[38;5;28;01mfor\u001b[39;00m i \u001b[38;5;129;01min\u001b[39;00m \u001b[38;5;28mrange\u001b[39m(\u001b[38;5;241m10\u001b[39m):\n\u001b[1;32m----> 4\u001b[0m     \u001b[38;5;28mprint\u001b[39m(\u001b[38;5;124mf\u001b[39m\u001b[38;5;124m\"\u001b[39m\u001b[38;5;132;01m{\u001b[39;00m\u001b[43mx\u001b[49m[i]\u001b[38;5;132;01m:\u001b[39;00m\u001b[38;5;124m.5f\u001b[39m\u001b[38;5;132;01m}\u001b[39;00m\u001b[38;5;124m|\u001b[39m\u001b[38;5;132;01m{\u001b[39;00msin[i]\u001b[38;5;132;01m:\u001b[39;00m\u001b[38;5;124m.5f\u001b[39m\u001b[38;5;132;01m}\u001b[39;00m\u001b[38;5;124m|\u001b[39m\u001b[38;5;132;01m{\u001b[39;00mcos[i]\u001b[38;5;132;01m:\u001b[39;00m\u001b[38;5;124m.5f\u001b[39m\u001b[38;5;132;01m}\u001b[39;00m\u001b[38;5;124m\"\u001b[39m)\n",
      "\u001b[1;31mNameError\u001b[0m: name 'x' is not defined"
     ]
    }
   ],
   "source": [
    "print(f\"   x   | sin(x)| cos(x)\")\n",
    "print(\"----------------------------\")\n",
    "for i in range(10):\n",
    "\t\tprint(f\"{x[i]:.5f}|{sinx[i]:.5f}\")"
   ]
  },
  {
   "cell_type": "markdown",
   "id": "be1a4987-4f53-4705-ab42-9456c23421dc",
   "metadata": {},
   "source": [
    "this prints the table "
   ]
  }
 ],
 "metadata": {
  "kernelspec": {
   "display_name": "Python 3 (ipykernel)",
   "language": "python",
   "name": "python3"
  },
  "language_info": {
   "codemirror_mode": {
    "name": "ipython",
    "version": 3
   },
   "file_extension": ".py",
   "mimetype": "text/x-python",
   "name": "python",
   "nbconvert_exporter": "python",
   "pygments_lexer": "ipython3",
   "version": "3.11.5"
  }
 },
 "nbformat": 4,
 "nbformat_minor": 5
}